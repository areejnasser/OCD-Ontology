{
  "cells": [
    {
      "cell_type": "code",
      "execution_count": null,
      "metadata": {
        "id": "ly6ixUt9TVAj"
      },
      "outputs": [],
      "source": [
        "import torch\n",
        "import pandas as pd\n",
        "from transformers import BertModel\n",
        "from transformers import BertTokenizer\n",
        "import numpy as np\n",
        "from sklearn.decomposition import PCA\n",
        "import matplotlib.pyplot as plt"
      ]
    },
    {
      "cell_type": "code",
      "execution_count": null,
      "metadata": {
        "id": "ylLwfpl7TVAj"
      },
      "outputs": [],
      "source": [
        "singleList= ['obsession', 'compulsion', 'urge', 'thought', 'obsessive', 'intrusive', 'impairment']\n",
        "biGramList= ['intrusive_thought', 'compulsive_behavior', 'aggressive_obsession', 'sexual_obsession', \n",
        "'contamination_obsession', 'hoarding_obsession', 'religious_obsession', 'symmetry_obsession', \n",
        "'somatic_obsession', 'doubt_obsession', 'mental_act']"
      ]
    },
    {
      "cell_type": "code",
      "execution_count": null,
      "metadata": {
        "id": "v-kGYwzMTVAj",
        "outputId": "7a8c7c55-0362-41f4-d0ab-eb42bce6d75c"
      },
      "outputs": [
        {
          "name": "stderr",
          "output_type": "stream",
          "text": [
            "Some weights of the model checkpoint at emilyalsentzer/Bio_ClinicalBERT were not used when initializing BertModel: ['cls.seq_relationship.weight', 'cls.predictions.transform.LayerNorm.weight', 'cls.predictions.transform.dense.bias', 'cls.predictions.transform.dense.weight', 'cls.predictions.bias', 'cls.seq_relationship.bias', 'cls.predictions.decoder.weight', 'cls.predictions.transform.LayerNorm.bias']\n",
            "- This IS expected if you are initializing BertModel from the checkpoint of a model trained on another task or with another architecture (e.g. initializing a BertForSequenceClassification model from a BertForPreTraining model).\n",
            "- This IS NOT expected if you are initializing BertModel from the checkpoint of a model that you expect to be exactly identical (initializing a BertForSequenceClassification model from a BertForSequenceClassification model).\n"
          ]
        }
      ],
      "source": [
        "tokenizer = BertTokenizer.from_pretrained('emilyalsentzer/Bio_ClinicalBERT')\n",
        "model = BertModel.from_pretrained('emilyalsentzer/Bio_ClinicalBERT', output_hidden_states=True)"
      ]
    },
    {
      "cell_type": "code",
      "execution_count": null,
      "metadata": {
        "id": "CYoOzFwOTVAj"
      },
      "outputs": [],
      "source": [
        "def bert_bert_similarities(ontologyClass, Bert_embedding_list, ontology_classes_List):\n",
        "    print(ontologyClass)\n",
        "    print('===============')\n",
        "\n",
        "    # Expand the dimensions of the vector to match the matrix shape\n",
        "    classIndx= ontology_classes_List.index(ontologyClass)\n",
        "    expanded_vector = Bert_embedding_list[classIndx].unsqueeze(0).expand(model.embeddings.word_embeddings.weight.size(0), -1)\n",
        "\n",
        "    # Calculate the cosine similarity\n",
        "    cos_similarities = torch.nn.functional.cosine_similarity(expanded_vector, model.embeddings.word_embeddings.weight, dim=1)\n",
        "\n",
        "    # Find the top ten similarities\n",
        "    top_similarities, top_indices = torch.topk(cos_similarities, k=20)\n",
        "    top_similarities, top_indices = top_similarities, tokenizer.convert_ids_to_tokens(top_indices)\n",
        "\n",
        "    # 'top_similarities' will be a tensor of shape [20] containing the top 20 similarities\n",
        "    # 'top_indices' will be a tensor of shape [20] containing the indices of the top 20 similarities in the original matrix\n",
        "\n",
        "    return list(zip([round(t.item(),3) for t in top_similarities],top_indices))"
      ]
    },
    {
      "cell_type": "code",
      "execution_count": null,
      "metadata": {
        "id": "MHVHmKRoTVAj",
        "outputId": "fa03f60a-26a7-4ab8-b549-f27a4c23b3c2"
      },
      "outputs": [
        {
          "data": {
            "text/plain": [
              "({'compulsion', 'impairment', 'intrusive', 'obsessive'}, 4)"
            ]
          },
          "execution_count": 24,
          "metadata": {},
          "output_type": "execute_result"
        }
      ],
      "source": [
        "\n",
        "Bert_embedding_list_single=[]\n",
        "tokens100_single= []\n",
        "for ontologyTerm in singleList:  # The word for which you want to obtain the embedding\n",
        "    termsList= ontologyTerm.lower().split('_')\n",
        "    if len(termsList)<=1:\n",
        "       \n",
        "        word_index = tokenizer.convert_tokens_to_ids(termsList[0])  # Convert the word to its corresponding index\n",
        "        if word_index==100:\n",
        "            tokens100_single.append(termsList[0])\n",
        "\n",
        "        # Access the embedding matrix and retrieve the embedding vector\n",
        "        embedding_matrix = model.embeddings.word_embeddings.weight\n",
        "        embedding_vector = embedding_matrix[word_index]\n",
        "\n",
        "        Bert_embedding_list_single.append(embedding_vector)\n",
        "       \n",
        "    else:\n",
        "        temList=[]\n",
        "        for word in termsList:\n",
        "            word_index = tokenizer.convert_tokens_to_ids(word)  # Convert the word to its corresponding index\n",
        "            if word_index==100:\n",
        "                tokens100_single.append(word)\n",
        "\n",
        "\n",
        "            # Access the embedding matrix and retrieve the embedding vector\n",
        "            embedding_matrix = model.embeddings.word_embeddings.weight\n",
        "            embedding_vector = embedding_matrix[word_index]\n",
        "\n",
        "            temList.append(embedding_vector)\n",
        "        meanTerm= torch.mean(torch.stack(temList), dim=0, keepdim=True).flatten()\n",
        "        Bert_embedding_list_single.append(meanTerm)\n",
        "        \n",
        "set(tokens100_single), len(set(tokens100_single))"
      ]
    },
    {
      "cell_type": "code",
      "execution_count": null,
      "metadata": {
        "id": "9S6l5nRsTVAj",
        "outputId": "393bc8ca-a402-41f5-aea5-f3f9384bc816"
      },
      "outputs": [
        {
          "name": "stdout",
          "output_type": "stream",
          "text": [
            "obsession\n",
            "===============\n"
          ]
        },
        {
          "data": {
            "text/plain": [
              "[(1.0, 'obsession'),\n",
              " (0.651, 'obsessed'),\n",
              " (0.636, 'fascination'),\n",
              " (0.588, 'urges'),\n",
              " (0.58, 'fantasies'),\n",
              " (0.573, 'irrational'),\n",
              " (0.57, 'insistence'),\n",
              " (0.569, 'preoccupied'),\n",
              " (0.567, 'worries'),\n",
              " (0.565, 'furiously'),\n",
              " (0.564, 'instincts'),\n",
              " (0.564, 'madness'),\n",
              " (0.563, 'flirting'),\n",
              " (0.562, 'instinct'),\n",
              " (0.561, '[unused47]'),\n",
              " (0.561, 'frenzy'),\n",
              " (0.561, '##म'),\n",
              " (0.558, 'Nightmare'),\n",
              " (0.557, 'psychedelic'),\n",
              " (0.557, 'torment')]"
            ]
          },
          "execution_count": 33,
          "metadata": {},
          "output_type": "execute_result"
        }
      ],
      "source": [
        "bert_bert_similarities('obsession', Bert_embedding_list_single, singleList)"
      ]
    },
    {
      "cell_type": "code",
      "execution_count": null,
      "metadata": {
        "id": "mgpzFNYBTVAj",
        "outputId": "34ab1968-3d98-4934-b203-392ca2d1ce7b"
      },
      "outputs": [
        {
          "name": "stdout",
          "output_type": "stream",
          "text": [
            "urge\n",
            "===============\n"
          ]
        },
        {
          "data": {
            "text/plain": [
              "[(1.0, 'urge'),\n",
              " (0.702, 'urges'),\n",
              " (0.573, 'urging'),\n",
              " (0.57, 'urged'),\n",
              " (0.535, 'urgency'),\n",
              " (0.519, 'encourages'),\n",
              " (0.51, 'encourage'),\n",
              " (0.496, 'invite'),\n",
              " (0.49, 'desire'),\n",
              " (0.489, 'obsession'),\n",
              " (0.483, 'uneasy'),\n",
              " (0.482, 'sentiments'),\n",
              " (0.479, 'invites'),\n",
              " (0.477, 'compelled'),\n",
              " (0.475, 'tempted'),\n",
              " (0.469, '##ề'),\n",
              " (0.469, 'obligation'),\n",
              " (0.469, 'temptation'),\n",
              " (0.469, 'provoked'),\n",
              " (0.467, 'ơ')]"
            ]
          },
          "execution_count": 35,
          "metadata": {},
          "output_type": "execute_result"
        }
      ],
      "source": [
        "bert_bert_similarities('urge', Bert_embedding_list_single, singleList)"
      ]
    },
    {
      "cell_type": "code",
      "execution_count": null,
      "metadata": {
        "id": "sJx4RQmyTVAj",
        "outputId": "e2d2a6b1-36a1-4842-9baa-aafa2fbe1164"
      },
      "outputs": [
        {
          "name": "stdout",
          "output_type": "stream",
          "text": [
            "thought\n",
            "===============\n"
          ]
        },
        {
          "data": {
            "text/plain": [
              "[(1.0, 'thought'),\n",
              " (0.594, 'Thought'),\n",
              " (0.579, 'believed'),\n",
              " (0.454, 'thinks'),\n",
              " (0.448, 'think'),\n",
              " (0.435, 'thinking'),\n",
              " (0.424, 'felt'),\n",
              " (0.392, 'deemed'),\n",
              " (0.39, 'presumed'),\n",
              " (0.376, 'thoughts'),\n",
              " (0.358, 'Thinking'),\n",
              " (0.356, 'considered'),\n",
              " (0.349, 'Think'),\n",
              " (0.348, 'said'),\n",
              " (0.341, 'believes'),\n",
              " (0.332, 'speculated'),\n",
              " (0.322, 'regarded'),\n",
              " (0.321, 'assumed'),\n",
              " (0.314, 'supposed'),\n",
              " (0.313, 'suspected')]"
            ]
          },
          "execution_count": 36,
          "metadata": {},
          "output_type": "execute_result"
        }
      ],
      "source": [
        "bert_bert_similarities('thought', Bert_embedding_list_single, singleList)"
      ]
    },
    {
      "cell_type": "code",
      "execution_count": null,
      "metadata": {
        "id": "euYMIO_iTVAj",
        "outputId": "806a665f-fb08-4377-b6ac-e33d94962a97"
      },
      "outputs": [
        {
          "data": {
            "text/plain": [
              "({'compulsive', 'hoarding', 'intrusive', 'somatic'}, 4)"
            ]
          },
          "execution_count": 25,
          "metadata": {},
          "output_type": "execute_result"
        }
      ],
      "source": [
        "Bert_embedding_list_bi=[]\n",
        "tokens100_bi= []\n",
        "for ontologyTerm in biGramList:  # The word for which you want to obtain the embedding\n",
        "    termsList= ontologyTerm.lower().split('_')\n",
        "    if len(termsList)<=1:\n",
        "       \n",
        "        word_index = tokenizer.convert_tokens_to_ids(termsList[0])  # Convert the word to its corresponding index\n",
        "        if word_index==100:\n",
        "            tokens100_bi.append(termsList[0])\n",
        "\n",
        "        # Access the embedding matrix and retrieve the embedding vector\n",
        "        embedding_matrix = model.embeddings.word_embeddings.weight\n",
        "        embedding_vector = embedding_matrix[word_index]\n",
        "\n",
        "        Bert_embedding_list_bi.append(embedding_vector)\n",
        "       \n",
        "    else:\n",
        "        temList=[]\n",
        "        for word in termsList:\n",
        "            word_index = tokenizer.convert_tokens_to_ids(word)  # Convert the word to its corresponding index\n",
        "            if word_index==100:\n",
        "                tokens100_bi.append(word)\n",
        "\n",
        "\n",
        "            # Access the embedding matrix and retrieve the embedding vector\n",
        "            embedding_matrix = model.embeddings.word_embeddings.weight\n",
        "            embedding_vector = embedding_matrix[word_index]\n",
        "\n",
        "            temList.append(embedding_vector)\n",
        "        meanTerm= torch.mean(torch.stack(temList), dim=0, keepdim=True).flatten()\n",
        "        Bert_embedding_list_bi.append(meanTerm)\n",
        "        \n",
        "set(tokens100_bi), len(set(tokens100_bi))"
      ]
    },
    {
      "cell_type": "code",
      "execution_count": null,
      "metadata": {
        "id": "_u44z5oSTVAj",
        "outputId": "1f145c81-5d32-498a-9fe2-b1c2a0ab893f"
      },
      "outputs": [
        {
          "name": "stdout",
          "output_type": "stream",
          "text": [
            "intrusive_thought\n",
            "===============\n"
          ]
        },
        {
          "data": {
            "text/plain": [
              "[(0.737, '[UNK]'),\n",
              " (0.707, 'thought'),\n",
              " (0.476, 'Thought'),\n",
              " (0.464, 'believed'),\n",
              " (0.36, 'regarded'),\n",
              " (0.357, 'thinking'),\n",
              " (0.352, 'Thinking'),\n",
              " (0.35, 'deemed'),\n",
              " (0.35, 'thinks'),\n",
              " (0.345, 'speculated'),\n",
              " (0.342, 'thoughts'),\n",
              " (0.337, 'think'),\n",
              " (0.335, 'assumed'),\n",
              " (0.333, 'felt'),\n",
              " (0.333, 'envisioned'),\n",
              " (0.332, 'Introduction'),\n",
              " (0.33, '西'),\n",
              " (0.329, 'considered'),\n",
              " (0.328, 'imagined'),\n",
              " (0.326, 'ideas')]"
            ]
          },
          "execution_count": 40,
          "metadata": {},
          "output_type": "execute_result"
        }
      ],
      "source": [
        "bert_bert_similarities(biGramList[0], Bert_embedding_list_bi, biGramList)"
      ]
    },
    {
      "cell_type": "code",
      "execution_count": null,
      "metadata": {
        "id": "O5hVj-wXTVAj",
        "outputId": "b8114201-79ec-4073-ef4b-b6196bdad8ab"
      },
      "outputs": [
        {
          "name": "stdout",
          "output_type": "stream",
          "text": [
            "compulsive_behavior\n",
            "===============\n"
          ]
        },
        {
          "data": {
            "text/plain": [
              "[(0.778, '[UNK]'),\n",
              " (0.718, 'behavior'),\n",
              " (0.612, 'behaviors'),\n",
              " (0.523, 'behaviour'),\n",
              " (0.493, 'behavioral'),\n",
              " (0.421, 'behave'),\n",
              " (0.384, 'γ'),\n",
              " (0.366, 'ρ'),\n",
              " (0.365, 'χ'),\n",
              " (0.364, 'β'),\n",
              " (0.363, 'α'),\n",
              " (0.36, 'morphology'),\n",
              " (0.358, '##vior'),\n",
              " (0.355, '##®'),\n",
              " (0.354, 'shapes'),\n",
              " (0.352, 'characterization'),\n",
              " (0.35, '≈'),\n",
              " (0.35, 'ε'),\n",
              " (0.348, 'properties'),\n",
              " (0.346, 'topography')]"
            ]
          },
          "execution_count": 41,
          "metadata": {},
          "output_type": "execute_result"
        }
      ],
      "source": [
        "bert_bert_similarities(biGramList[1], Bert_embedding_list_bi, biGramList)"
      ]
    },
    {
      "cell_type": "code",
      "execution_count": null,
      "metadata": {
        "id": "MILj-t3JTVAj",
        "outputId": "b2c4cb85-e525-41a6-fdc2-43c28385a5e0"
      },
      "outputs": [
        {
          "name": "stdout",
          "output_type": "stream",
          "text": [
            "aggressive_obsession\n",
            "===============\n"
          ]
        },
        {
          "data": {
            "text/plain": [
              "[(0.835, 'obsession'),\n",
              " (0.76, 'aggressive'),\n",
              " (0.634, 'aggressively'),\n",
              " (0.609, 'obsessed'),\n",
              " (0.602, 'relentless'),\n",
              " (0.588, 'aggression'),\n",
              " (0.581, 'ruthless'),\n",
              " (0.574, 'urges'),\n",
              " (0.568, '1803'),\n",
              " (0.561, 'oversized'),\n",
              " (0.56, 'irrational'),\n",
              " (0.56, 'eclectic'),\n",
              " (0.558, '##ミ'),\n",
              " (0.558, 'Assault'),\n",
              " (0.557, 'rebellious'),\n",
              " (0.557, 'brutality'),\n",
              " (0.555, 'insistence'),\n",
              " (0.554, 'ornate'),\n",
              " (0.554, '1881'),\n",
              " (0.553, 'frantic')]"
            ]
          },
          "execution_count": 42,
          "metadata": {},
          "output_type": "execute_result"
        }
      ],
      "source": [
        "bert_bert_similarities(biGramList[2], Bert_embedding_list_bi, biGramList)"
      ]
    },
    {
      "cell_type": "code",
      "execution_count": null,
      "metadata": {
        "id": "J2w_jr5jTVAk",
        "outputId": "49d6758e-8a62-4f79-e229-253d8e6ed525"
      },
      "outputs": [
        {
          "name": "stdout",
          "output_type": "stream",
          "text": [
            "sexual_obsession\n",
            "===============\n"
          ]
        },
        {
          "data": {
            "text/plain": [
              "[(0.822, 'obsession'),\n",
              " (0.788, 'sexual'),\n",
              " (0.762, 'Sexual'),\n",
              " (0.657, 'sexuality'),\n",
              " (0.641, 'homosexual'),\n",
              " (0.64, '##sexual'),\n",
              " (0.637, 'sexually'),\n",
              " (0.607, 'erotic'),\n",
              " (0.6, 'fantasies'),\n",
              " (0.598, 'homosexuality'),\n",
              " (0.596, 'sensual'),\n",
              " (0.595, 'flirting'),\n",
              " (0.588, 'orgasm'),\n",
              " (0.586, 'obsessed'),\n",
              " (0.583, 'Spiritual'),\n",
              " (0.583, 'fascination'),\n",
              " (0.579, 'urges'),\n",
              " (0.576, 'Romantic'),\n",
              " (0.573, 'pornography'),\n",
              " (0.572, 'mystical')]"
            ]
          },
          "execution_count": 43,
          "metadata": {},
          "output_type": "execute_result"
        }
      ],
      "source": [
        "bert_bert_similarities(biGramList[3], Bert_embedding_list_bi, biGramList)"
      ]
    },
    {
      "cell_type": "code",
      "execution_count": null,
      "metadata": {
        "id": "kua5KSB_TVAk",
        "outputId": "11873ff4-3eb9-4214-889c-4ba9b340d5af"
      },
      "outputs": [
        {
          "name": "stdout",
          "output_type": "stream",
          "text": [
            "contamination_obsession\n",
            "===============\n"
          ]
        },
        {
          "data": {
            "text/plain": [
              "[(0.832, 'obsession'),\n",
              " (0.8, 'contamination'),\n",
              " (0.624, 'fascination'),\n",
              " (0.616, 'contaminated'),\n",
              " (0.608, 'obsessed'),\n",
              " (0.58, '1764'),\n",
              " (0.579, 'domination'),\n",
              " (0.576, 'pollution'),\n",
              " (0.573, '1895'),\n",
              " (0.571, '1761'),\n",
              " (0.568, 'littered'),\n",
              " (0.567, '##म'),\n",
              " (0.566, 'scandal'),\n",
              " (0.566, '##明'),\n",
              " (0.563, 'riots'),\n",
              " (0.56, 'ת'),\n",
              " (0.56, '[unused47]'),\n",
              " (0.559, '##ミ'),\n",
              " (0.559, 'rumours'),\n",
              " (0.559, 'disgusted')]"
            ]
          },
          "execution_count": 44,
          "metadata": {},
          "output_type": "execute_result"
        }
      ],
      "source": [
        "bert_bert_similarities(biGramList[4], Bert_embedding_list_bi, biGramList)"
      ]
    },
    {
      "cell_type": "code",
      "execution_count": null,
      "metadata": {
        "id": "RQrWEYj3TVAk",
        "outputId": "664a9d6a-fd41-4758-d184-f2e4c4e61d2b"
      },
      "outputs": [
        {
          "name": "stdout",
          "output_type": "stream",
          "text": [
            "hoarding_obsession\n",
            "===============\n"
          ]
        },
        {
          "data": {
            "text/plain": [
              "[(0.789, 'obsession'),\n",
              " (0.728, '[UNK]'),\n",
              " (0.546, 'fascination'),\n",
              " (0.538, 'obsessed'),\n",
              " (0.534, '正'),\n",
              " (0.526, '下'),\n",
              " (0.523, '山'),\n",
              " (0.518, '三'),\n",
              " (0.517, '大'),\n",
              " (0.517, '宮'),\n",
              " (0.515, '一'),\n",
              " (0.514, '川'),\n",
              " (0.514, '生'),\n",
              " (0.513, 'ọ'),\n",
              " (0.511, '公'),\n",
              " (0.509, '東'),\n",
              " (0.509, '方'),\n",
              " (0.509, '##म'),\n",
              " (0.508, '上'),\n",
              " (0.508, '十')]"
            ]
          },
          "execution_count": 45,
          "metadata": {},
          "output_type": "execute_result"
        }
      ],
      "source": [
        "bert_bert_similarities(biGramList[5], Bert_embedding_list_bi, biGramList)"
      ]
    },
    {
      "cell_type": "code",
      "execution_count": null,
      "metadata": {
        "id": "tNf7JCODTVAk",
        "outputId": "4f2c2db2-0627-4efe-aa11-c051de555621"
      },
      "outputs": [
        {
          "name": "stdout",
          "output_type": "stream",
          "text": [
            "religious_obsession\n",
            "===============\n"
          ]
        },
        {
          "data": {
            "text/plain": [
              "[(0.852, 'obsession'),\n",
              " (0.8, 'religious'),\n",
              " (0.73, 'Religious'),\n",
              " (0.66, 'religions'),\n",
              " (0.653, 'rituals'),\n",
              " (0.639, 'ideological'),\n",
              " (0.638, 'mystical'),\n",
              " (0.633, 'Spiritual'),\n",
              " (0.632, 'theological'),\n",
              " (0.629, 'religion'),\n",
              " (0.627, 'Religion'),\n",
              " (0.624, 'biblical'),\n",
              " (0.618, 'spirituality'),\n",
              " (0.617, 'theologian'),\n",
              " (0.616, 'believers'),\n",
              " (0.616, 'Philosophical'),\n",
              " (0.615, 'devotees'),\n",
              " (0.614, 'irrational'),\n",
              " (0.614, 'obsessed'),\n",
              " (0.614, 'ecclesiastical')]"
            ]
          },
          "execution_count": 46,
          "metadata": {},
          "output_type": "execute_result"
        }
      ],
      "source": [
        "bert_bert_similarities(biGramList[6], Bert_embedding_list_bi, biGramList)"
      ]
    },
    {
      "cell_type": "code",
      "execution_count": null,
      "metadata": {
        "id": "y8CGgnT6TVAk",
        "outputId": "0490f610-08c1-4953-b736-6998e541133b"
      },
      "outputs": [
        {
          "name": "stdout",
          "output_type": "stream",
          "text": [
            "symmetry_obsession\n",
            "===============\n"
          ]
        },
        {
          "data": {
            "text/plain": [
              "[(0.833, 'symmetry'),\n",
              " (0.818, 'obsession'),\n",
              " (0.59, 'obsessed'),\n",
              " (0.587, 'symmetrical'),\n",
              " (0.58, 'fascination'),\n",
              " (0.578, 'rituals'),\n",
              " (0.576, '[unused20]'),\n",
              " (0.575, 'giggling'),\n",
              " (0.57, '##ₚ'),\n",
              " (0.568, '1893'),\n",
              " (0.563, 'Madness'),\n",
              " (0.563, '1881'),\n",
              " (0.563, '##社'),\n",
              " (0.561, '1796'),\n",
              " (0.561, '1862'),\n",
              " (0.56, 'octagonal'),\n",
              " (0.56, '##明'),\n",
              " (0.56, '[unused55]'),\n",
              " (0.558, 'puzzles'),\n",
              " (0.558, 'fantasies')]"
            ]
          },
          "execution_count": 47,
          "metadata": {},
          "output_type": "execute_result"
        }
      ],
      "source": [
        "bert_bert_similarities(biGramList[7], Bert_embedding_list_bi, biGramList)"
      ]
    },
    {
      "cell_type": "code",
      "execution_count": null,
      "metadata": {
        "id": "eUGsmsXBTVAk",
        "outputId": "3f55e8a3-66f5-40d0-8743-d091541dd277"
      },
      "outputs": [
        {
          "name": "stdout",
          "output_type": "stream",
          "text": [
            "somatic_obsession\n",
            "===============\n"
          ]
        },
        {
          "data": {
            "text/plain": [
              "[(0.789, 'obsession'),\n",
              " (0.728, '[UNK]'),\n",
              " (0.546, 'fascination'),\n",
              " (0.538, 'obsessed'),\n",
              " (0.534, '正'),\n",
              " (0.526, '下'),\n",
              " (0.523, '山'),\n",
              " (0.518, '三'),\n",
              " (0.517, '大'),\n",
              " (0.517, '宮'),\n",
              " (0.515, '一'),\n",
              " (0.514, '川'),\n",
              " (0.514, '生'),\n",
              " (0.513, 'ọ'),\n",
              " (0.511, '公'),\n",
              " (0.509, '東'),\n",
              " (0.509, '方'),\n",
              " (0.509, '##म'),\n",
              " (0.508, '上'),\n",
              " (0.508, '十')]"
            ]
          },
          "execution_count": 48,
          "metadata": {},
          "output_type": "execute_result"
        }
      ],
      "source": [
        "bert_bert_similarities(biGramList[8], Bert_embedding_list_bi, biGramList)"
      ]
    },
    {
      "cell_type": "code",
      "execution_count": null,
      "metadata": {
        "id": "31jLhdnATVAk",
        "outputId": "9617eaeb-fb23-4d1b-fa9c-d122a47021e9"
      },
      "outputs": [
        {
          "name": "stdout",
          "output_type": "stream",
          "text": [
            "doubt_obsession\n",
            "===============\n"
          ]
        },
        {
          "data": {
            "text/plain": [
              "[(0.796, 'doubt'),\n",
              " (0.791, 'obsession'),\n",
              " (0.682, 'doubts'),\n",
              " (0.634, 'doubted'),\n",
              " (0.615, 'dispute'),\n",
              " (0.594, 'disputes'),\n",
              " (0.592, 'worries'),\n",
              " (0.584, 'suspicions'),\n",
              " (0.576, 'obsessed'),\n",
              " (0.57, 'fascination'),\n",
              " (0.568, '1862'),\n",
              " (0.565, '1897'),\n",
              " (0.564, 'denying'),\n",
              " (0.562, 'myths'),\n",
              " (0.561, 'objections'),\n",
              " (0.559, '##म'),\n",
              " (0.559, '1881'),\n",
              " (0.559, 'resentment'),\n",
              " (0.557, 'disagreements'),\n",
              " (0.556, 'desperation')]"
            ]
          },
          "execution_count": 49,
          "metadata": {},
          "output_type": "execute_result"
        }
      ],
      "source": [
        "bert_bert_similarities(biGramList[9], Bert_embedding_list_bi, biGramList)"
      ]
    },
    {
      "cell_type": "code",
      "execution_count": null,
      "metadata": {
        "id": "xinkK8kuTVAk",
        "outputId": "1c611166-7394-42df-ab17-e74122d1c8fa"
      },
      "outputs": [
        {
          "name": "stdout",
          "output_type": "stream",
          "text": [
            "mental_act\n",
            "===============\n"
          ]
        },
        {
          "data": {
            "text/plain": [
              "[(0.731, 'mental'),\n",
              " (0.728, 'act'),\n",
              " (0.567, 'Mental'),\n",
              " (0.502, 'Act'),\n",
              " (0.496, 'acts'),\n",
              " (0.46, 'mentally'),\n",
              " (0.442, 'Acts'),\n",
              " (0.44, 'acted'),\n",
              " (0.394, 'Acting'),\n",
              " (0.386, 'acting'),\n",
              " (0.366, 'psychological'),\n",
              " (0.356, 'psychiatric'),\n",
              " (0.345, '1794'),\n",
              " (0.345, 'emotional'),\n",
              " (0.343, 'Psychological'),\n",
              " (0.343, 'insanity'),\n",
              " (0.34, '1804'),\n",
              " (0.337, '1788'),\n",
              " (0.337, '1796'),\n",
              " (0.336, 'functioned')]"
            ]
          },
          "execution_count": 50,
          "metadata": {},
          "output_type": "execute_result"
        }
      ],
      "source": [
        "bert_bert_similarities(biGramList[10], Bert_embedding_list_bi, biGramList)"
      ]
    }
  ],
  "metadata": {
    "colab": {
      "provenance": []
    },
    "kernelspec": {
      "display_name": "Python 3",
      "name": "python3"
    },
    "language_info": {
      "codemirror_mode": {
        "name": "ipython",
        "version": 3
      },
      "file_extension": ".py",
      "mimetype": "text/x-python",
      "name": "python",
      "nbconvert_exporter": "python",
      "pygments_lexer": "ipython3",
      "version": "3.7.0"
    }
  },
  "nbformat": 4,
  "nbformat_minor": 0
}